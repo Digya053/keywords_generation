{
  "nbformat": 4,
  "nbformat_minor": 0,
  "metadata": {
    "colab": {
      "name": "data_analysis.ipynb",
      "provenance": [],
      "collapsed_sections": []
    },
    "kernelspec": {
      "name": "python3",
      "display_name": "Python 3"
    }
  },
  "cells": [
    {
      "cell_type": "code",
      "metadata": {
        "id": "0BzWdYTGaudQ",
        "colab_type": "code",
        "colab": {}
      },
      "source": [
        "import numpy as np\n",
        "import pandas as pd\n",
        "\n",
        "import matplotlib.pyplot as plt\n",
        "%matplotlib inline\n",
        "plt.rcParams[\"figure.figsize\"] = [10, 5]"
      ],
      "execution_count": 10,
      "outputs": []
    },
    {
      "cell_type": "code",
      "metadata": {
        "id": "lvRjGkMBa0sg",
        "colab_type": "code",
        "colab": {
          "base_uri": "https://localhost:8080/",
          "height": 120
        },
        "outputId": "3ccfe221-22b0-4268-bf6f-874ee6b6fcc4"
      },
      "source": [
        "from google.colab import drive\n",
        "drive.mount('/content/gdrive')"
      ],
      "execution_count": 2,
      "outputs": [
        {
          "output_type": "stream",
          "text": [
            "Go to this URL in a browser: https://accounts.google.com/o/oauth2/auth?client_id=947318989803-6bn6qk8qdgf4n4g3pfee6491hc0brc4i.apps.googleusercontent.com&redirect_uri=urn%3aietf%3awg%3aoauth%3a2.0%3aoob&response_type=code&scope=email%20https%3a%2f%2fwww.googleapis.com%2fauth%2fdocs.test%20https%3a%2f%2fwww.googleapis.com%2fauth%2fdrive%20https%3a%2f%2fwww.googleapis.com%2fauth%2fdrive.photos.readonly%20https%3a%2f%2fwww.googleapis.com%2fauth%2fpeopleapi.readonly\n",
            "\n",
            "Enter your authorization code:\n",
            "··········\n",
            "Mounted at /content/gdrive\n"
          ],
          "name": "stdout"
        }
      ]
    },
    {
      "cell_type": "code",
      "metadata": {
        "id": "dd18hSCYa2Vt",
        "colab_type": "code",
        "colab": {
          "base_uri": "https://localhost:8080/",
          "height": 300
        },
        "outputId": "0cfe17ce-0f8a-454c-aa4a-bdaa8bef30ce"
      },
      "source": [
        "!wget -O data_tabular.csv \"https://drive.google.com/uc?export=download&id=1zFmbaIVgYGNHq2oQPAFmZXyDMOE7THK_\""
      ],
      "execution_count": 3,
      "outputs": [
        {
          "output_type": "stream",
          "text": [
            "--2020-07-21 08:10:57--  https://drive.google.com/uc?export=download&id=1zFmbaIVgYGNHq2oQPAFmZXyDMOE7THK_\n",
            "Resolving drive.google.com (drive.google.com)... 173.194.79.139, 173.194.79.138, 173.194.79.100, ...\n",
            "Connecting to drive.google.com (drive.google.com)|173.194.79.139|:443... connected.\n",
            "HTTP request sent, awaiting response... 302 Moved Temporarily\n",
            "Location: https://doc-0c-5c-docs.googleusercontent.com/docs/securesc/ha0ro937gcuc7l7deffksulhg5h7mbp1/jh5snt09m7e11uamk3f8kgqaa9nctn4p/1595319000000/11982445100638591291/*/1zFmbaIVgYGNHq2oQPAFmZXyDMOE7THK_?e=download [following]\n",
            "Warning: wildcards not supported in HTTP.\n",
            "--2020-07-21 08:10:59--  https://doc-0c-5c-docs.googleusercontent.com/docs/securesc/ha0ro937gcuc7l7deffksulhg5h7mbp1/jh5snt09m7e11uamk3f8kgqaa9nctn4p/1595319000000/11982445100638591291/*/1zFmbaIVgYGNHq2oQPAFmZXyDMOE7THK_?e=download\n",
            "Resolving doc-0c-5c-docs.googleusercontent.com (doc-0c-5c-docs.googleusercontent.com)... 74.125.128.132, 2a00:1450:4013:c02::84\n",
            "Connecting to doc-0c-5c-docs.googleusercontent.com (doc-0c-5c-docs.googleusercontent.com)|74.125.128.132|:443... connected.\n",
            "HTTP request sent, awaiting response... 200 OK\n",
            "Length: unspecified [text/csv]\n",
            "Saving to: ‘data_tabular.csv’\n",
            "\n",
            "data_tabular.csv        [  <=>               ]  22.43M  45.1MB/s    in 0.5s    \n",
            "\n",
            "2020-07-21 08:11:00 (45.1 MB/s) - ‘data_tabular.csv’ saved [23515192]\n",
            "\n"
          ],
          "name": "stdout"
        }
      ]
    },
    {
      "cell_type": "code",
      "metadata": {
        "id": "FfPXS9yWbPTz",
        "colab_type": "code",
        "colab": {}
      },
      "source": [
        "df = pd.read_csv('data_tabular.csv')"
      ],
      "execution_count": 4,
      "outputs": []
    },
    {
      "cell_type": "code",
      "metadata": {
        "id": "wQ-iyRG2bR0L",
        "colab_type": "code",
        "colab": {
          "base_uri": "https://localhost:8080/",
          "height": 197
        },
        "outputId": "bb6d960d-a9bd-4ce9-ed29-8346718b2fa3"
      },
      "source": [
        "df = df.apply(lambda x: x.astype(str).str.lower())\n",
        "df.head()"
      ],
      "execution_count": 5,
      "outputs": [
        {
          "output_type": "execute_result",
          "data": {
            "text/html": [
              "<div>\n",
              "<style scoped>\n",
              "    .dataframe tbody tr th:only-of-type {\n",
              "        vertical-align: middle;\n",
              "    }\n",
              "\n",
              "    .dataframe tbody tr th {\n",
              "        vertical-align: top;\n",
              "    }\n",
              "\n",
              "    .dataframe thead th {\n",
              "        text-align: right;\n",
              "    }\n",
              "</style>\n",
              "<table border=\"1\" class=\"dataframe\">\n",
              "  <thead>\n",
              "    <tr style=\"text-align: right;\">\n",
              "      <th></th>\n",
              "      <th>daac_name</th>\n",
              "      <th>title</th>\n",
              "      <th>abstract</th>\n",
              "      <th>l_sciencekeywords</th>\n",
              "      <th>term</th>\n",
              "      <th>vl_1</th>\n",
              "      <th>vl_2</th>\n",
              "      <th>vl_3</th>\n",
              "      <th>most_depth</th>\n",
              "    </tr>\n",
              "  </thead>\n",
              "  <tbody>\n",
              "    <tr>\n",
              "      <th>0</th>\n",
              "      <td>ghrc_cloud</td>\n",
              "      <td>aces aircraft and mechanical data v1</td>\n",
              "      <td>the aces aircraft and mechanical data consist ...</td>\n",
              "      <td>1</td>\n",
              "      <td>platform characteristics</td>\n",
              "      <td>flight data logs</td>\n",
              "      <td>nan</td>\n",
              "      <td>nan</td>\n",
              "      <td>flight data logs</td>\n",
              "    </tr>\n",
              "    <tr>\n",
              "      <th>1</th>\n",
              "      <td>ghrc_cloud</td>\n",
              "      <td>aces continuous data v1</td>\n",
              "      <td>the altus cloud electrification study (aces) w...</td>\n",
              "      <td>7</td>\n",
              "      <td>atmospheric winds</td>\n",
              "      <td>wind dynamics</td>\n",
              "      <td>turbulence</td>\n",
              "      <td>nan</td>\n",
              "      <td>turbulence</td>\n",
              "    </tr>\n",
              "    <tr>\n",
              "      <th>2</th>\n",
              "      <td>ghrc_cloud</td>\n",
              "      <td>aces continuous data v1</td>\n",
              "      <td>the altus cloud electrification study (aces) w...</td>\n",
              "      <td>7</td>\n",
              "      <td>radio wave</td>\n",
              "      <td>radio wave flux</td>\n",
              "      <td>nan</td>\n",
              "      <td>nan</td>\n",
              "      <td>radio wave flux</td>\n",
              "    </tr>\n",
              "    <tr>\n",
              "      <th>3</th>\n",
              "      <td>ghrc_cloud</td>\n",
              "      <td>aces continuous data v1</td>\n",
              "      <td>the altus cloud electrification study (aces) w...</td>\n",
              "      <td>7</td>\n",
              "      <td>weather events</td>\n",
              "      <td>lightning</td>\n",
              "      <td>nan</td>\n",
              "      <td>nan</td>\n",
              "      <td>lightning</td>\n",
              "    </tr>\n",
              "    <tr>\n",
              "      <th>4</th>\n",
              "      <td>ghrc_cloud</td>\n",
              "      <td>aces continuous data v1</td>\n",
              "      <td>the altus cloud electrification study (aces) w...</td>\n",
              "      <td>7</td>\n",
              "      <td>geomagnetism</td>\n",
              "      <td>magnetic field</td>\n",
              "      <td>nan</td>\n",
              "      <td>nan</td>\n",
              "      <td>magnetic field</td>\n",
              "    </tr>\n",
              "  </tbody>\n",
              "</table>\n",
              "</div>"
            ],
            "text/plain": [
              "    daac_name                                 title  ... vl_3        most_depth\n",
              "0  ghrc_cloud  aces aircraft and mechanical data v1  ...  nan  flight data logs\n",
              "1  ghrc_cloud               aces continuous data v1  ...  nan        turbulence\n",
              "2  ghrc_cloud               aces continuous data v1  ...  nan   radio wave flux\n",
              "3  ghrc_cloud               aces continuous data v1  ...  nan         lightning\n",
              "4  ghrc_cloud               aces continuous data v1  ...  nan    magnetic field\n",
              "\n",
              "[5 rows x 9 columns]"
            ]
          },
          "metadata": {
            "tags": []
          },
          "execution_count": 5
        }
      ]
    },
    {
      "cell_type": "code",
      "metadata": {
        "id": "EislTr2tbUDe",
        "colab_type": "code",
        "colab": {
          "base_uri": "https://localhost:8080/",
          "height": 83
        },
        "outputId": "ecd74d2c-bc01-4c6d-f4d4-d67add68ba3a"
      },
      "source": [
        "print(df.shape)\n",
        "print(df.columns)"
      ],
      "execution_count": 6,
      "outputs": [
        {
          "output_type": "stream",
          "text": [
            "(18277, 9)\n",
            "Index(['daac_name', 'title', 'abstract', 'l_sciencekeywords', 'term', 'vl_1',\n",
            "       'vl_2', 'vl_3', 'most_depth'],\n",
            "      dtype='object')\n"
          ],
          "name": "stdout"
        }
      ]
    },
    {
      "cell_type": "markdown",
      "metadata": {
        "id": "YrhAlms1bZQ1",
        "colab_type": "text"
      },
      "source": [
        "**Keywords analysis**"
      ]
    },
    {
      "cell_type": "markdown",
      "metadata": {
        "id": "vTKGPja4bdGj",
        "colab_type": "text"
      },
      "source": [
        "Term"
      ]
    },
    {
      "cell_type": "code",
      "metadata": {
        "id": "J3eYLevMbWkE",
        "colab_type": "code",
        "colab": {
          "base_uri": "https://localhost:8080/",
          "height": 33
        },
        "outputId": "c3ed2860-a8cd-4413-e698-3ebd29d490d7"
      },
      "source": [
        "# Number of unique keywords in df[\"Term\"]\n",
        "print(len(df[\"term\"].value_counts()))"
      ],
      "execution_count": 7,
      "outputs": [
        {
          "output_type": "stream",
          "text": [
            "103\n"
          ],
          "name": "stdout"
        }
      ]
    },
    {
      "cell_type": "code",
      "metadata": {
        "id": "ElmyBF1acfgc",
        "colab_type": "code",
        "colab": {
          "base_uri": "https://localhost:8080/",
          "height": 366
        },
        "outputId": "b6d4a27a-4e39-4d21-a79b-6e3d5aa67250"
      },
      "source": [
        "# 20 most highest occuring keyword in df[\"Term\"]\n",
        "df[\"term\"].value_counts().nlargest(20)"
      ],
      "execution_count": 8,
      "outputs": [
        {
          "output_type": "execute_result",
          "data": {
            "text/plain": [
              "atmospheric water vapor         1366\n",
              "vegetation                      1365\n",
              "atmospheric radiation           1194\n",
              "atmospheric temperature         1102\n",
              "precipitation                   1094\n",
              "atmospheric chemistry           1073\n",
              "clouds                          1036\n",
              "soils                            933\n",
              "surface radiative properties     829\n",
              "ocean optics                     531\n",
              "atmospheric winds                505\n",
              "ocean temperature                472\n",
              "ecological dynamics              459\n",
              "aerosols                         454\n",
              "ocean chemistry                  436\n",
              "land use/land cover              391\n",
              "radar                            382\n",
              "atmospheric pressure             351\n",
              "infrared wavelengths             341\n",
              "ecosystems                       329\n",
              "Name: term, dtype: int64"
            ]
          },
          "metadata": {
            "tags": []
          },
          "execution_count": 8
        }
      ]
    },
    {
      "cell_type": "code",
      "metadata": {
        "id": "TEgVZO16chtq",
        "colab_type": "code",
        "colab": {
          "base_uri": "https://localhost:8080/",
          "height": 447
        },
        "outputId": "04f8fbf2-6cdb-49a6-f7c9-19438d81569b"
      },
      "source": [
        "prob = df[\"term\"].value_counts().nlargest(20)\n",
        "prob.plot(kind='bar')\n",
        "plt.xticks()\n",
        "plt.show()"
      ],
      "execution_count": 11,
      "outputs": [
        {
          "output_type": "display_data",
          "data": {
            "image/png": "[encoded data removed]",
            "text/plain": [
              "<Figure size 720x360 with 1 Axes>"
            ]
          },
          "metadata": {
            "tags": [],
            "needs_background": "light"
          }
        }
      ]
    },
    {
      "cell_type": "markdown",
      "metadata": {
        "id": "M5Di2QL2crCc",
        "colab_type": "text"
      },
      "source": [
        "VL_1"
      ]
    },
    {
      "cell_type": "code",
      "metadata": {
        "id": "_GkRhp2HckNY",
        "colab_type": "code",
        "colab": {
          "base_uri": "https://localhost:8080/",
          "height": 33
        },
        "outputId": "f0a7c911-3d82-4ab2-a9e6-c7a87d278cf9"
      },
      "source": [
        "# Number of unique keywords in df[\"vl_1\"]\n",
        "print(len(df[\"vl_1\"].value_counts()))"
      ],
      "execution_count": 12,
      "outputs": [
        {
          "output_type": "stream",
          "text": [
            "420\n"
          ],
          "name": "stdout"
        }
      ]
    },
    {
      "cell_type": "code",
      "metadata": {
        "id": "4lRN3KtgctsB",
        "colab_type": "code",
        "colab": {
          "base_uri": "https://localhost:8080/",
          "height": 366
        },
        "outputId": "9cd07600-5dea-42db-aad8-1baa878ec98b"
      },
      "source": [
        "# Top 20 most common occuring keywords in df[\"vl_1\"]\n",
        "df[\"vl_1\"].value_counts().nlargest(20)"
      ],
      "execution_count": 13,
      "outputs": [
        {
          "output_type": "execute_result",
          "data": {
            "text/plain": [
              "nan                                   2089\n",
              "water vapor indicators                 883\n",
              "surface temperature                    829\n",
              "cloud properties                       641\n",
              "reflectance                            556\n",
              "carbon and hydrocarbon compounds       450\n",
              "ecosystem functions                    371\n",
              "surface winds                          325\n",
              "land use/land cover classification     307\n",
              "precipitation rate                     306\n",
              "cloud microphysics                     271\n",
              "terrain elevation                      263\n",
              "terrestrial ecosystems                 246\n",
              "oxygen compounds                       244\n",
              "precipitation amount                   240\n",
              "albedo                                 239\n",
              "upper air temperature                  237\n",
              "heat flux                              225\n",
              "biomass                                214\n",
              "soil moisture/water content            206\n",
              "Name: vl_1, dtype: int64"
            ]
          },
          "metadata": {
            "tags": []
          },
          "execution_count": 13
        }
      ]
    },
    {
      "cell_type": "code",
      "metadata": {
        "id": "WuXVHMo5cwO9",
        "colab_type": "code",
        "colab": {
          "base_uri": "https://localhost:8080/",
          "height": 493
        },
        "outputId": "ae9cc46c-c742-493d-a685-a123d74bb3ae"
      },
      "source": [
        "prob = df[\"vl_1\"].value_counts().nlargest(20)\n",
        "prob.plot(kind='bar')\n",
        "plt.xticks()\n",
        "plt.show()"
      ],
      "execution_count": 14,
      "outputs": [
        {
          "output_type": "display_data",
          "data": {
            "image/png": "[encoded data removed]",
            "text/plain": [
              "<Figure size 720x360 with 1 Axes>"
            ]
          },
          "metadata": {
            "tags": [],
            "needs_background": "light"
          }
        }
      ]
    },
    {
      "cell_type": "markdown",
      "metadata": {
        "id": "AWzlKG-4c2Cm",
        "colab_type": "text"
      },
      "source": [
        "VL_2\n",
        "\n"
      ]
    },
    {
      "cell_type": "code",
      "metadata": {
        "id": "SKEGOksVcytd",
        "colab_type": "code",
        "colab": {
          "base_uri": "https://localhost:8080/",
          "height": 33
        },
        "outputId": "94e284d7-8798-42f9-9556-00b601458296"
      },
      "source": [
        "# Number of unique keywords in df[\"vl_2\"]\n",
        "print(len(df[\"vl_2\"].value_counts()))"
      ],
      "execution_count": 15,
      "outputs": [
        {
          "output_type": "stream",
          "text": [
            "224\n"
          ],
          "name": "stdout"
        }
      ]
    },
    {
      "cell_type": "code",
      "metadata": {
        "id": "yIYZ6dWCc4ev",
        "colab_type": "code",
        "colab": {
          "base_uri": "https://localhost:8080/",
          "height": 366
        },
        "outputId": "e7d5ce02-7ad8-434f-8cdf-f9b746cfe82d"
      },
      "source": [
        "# Top 20 most common occuring keywords in df[\"vl_2\"]\n",
        "df[\"vl_2\"].value_counts().nlargest(20)"
      ],
      "execution_count": 16,
      "outputs": [
        {
          "output_type": "execute_result",
          "data": {
            "text/plain": [
              "nan                            12990\n",
              "air temperature                  364\n",
              "humidity                         326\n",
              "water vapor                      292\n",
              "ozone                            235\n",
              "carbon dioxide                   219\n",
              "total precipitable water         196\n",
              "rain                             169\n",
              "primary production               155\n",
              "forests                          152\n",
              "cloud liquid water/ice           134\n",
              "methane                          128\n",
              "cloud top pressure               119\n",
              "cloud top temperature            104\n",
              "cloud fraction                    86\n",
              "biomass dynamics                  85\n",
              "skin temperature                  80\n",
              "cloud height                      75\n",
              "cloud vertical distribution       72\n",
              "evapotranspiration                70\n",
              "Name: vl_2, dtype: int64"
            ]
          },
          "metadata": {
            "tags": []
          },
          "execution_count": 16
        }
      ]
    },
    {
      "cell_type": "code",
      "metadata": {
        "id": "mUutXNrgc6kT",
        "colab_type": "code",
        "colab": {
          "base_uri": "https://localhost:8080/",
          "height": 437
        },
        "outputId": "6c26ae6f-a5c5-4340-85a7-23a4656e1919"
      },
      "source": [
        "prob = df[\"vl_2\"].value_counts().nlargest(20)\n",
        "prob.plot(kind='bar')\n",
        "plt.xticks()\n",
        "plt.show()"
      ],
      "execution_count": 17,
      "outputs": [
        {
          "output_type": "display_data",
          "data": {
            "image/png": "[encoded data removed]",
            "text/plain": [
              "<Figure size 720x360 with 1 Axes>"
            ]
          },
          "metadata": {
            "tags": [],
            "needs_background": "light"
          }
        }
      ]
    },
    {
      "cell_type": "markdown",
      "metadata": {
        "id": "iuhWXXysdAQz",
        "colab_type": "text"
      },
      "source": [
        "Most_depth"
      ]
    },
    {
      "cell_type": "code",
      "metadata": {
        "id": "ZDtkfgnDc9Q2",
        "colab_type": "code",
        "colab": {
          "base_uri": "https://localhost:8080/",
          "height": 33
        },
        "outputId": "aa75befe-a38f-488a-cb30-b7e02b3c1b87"
      },
      "source": [
        "# Number of unique keywords in df[\"most_depth\"]\n",
        "print(len(df[\"most_depth\"].value_counts()))"
      ],
      "execution_count": 18,
      "outputs": [
        {
          "output_type": "stream",
          "text": [
            "644\n"
          ],
          "name": "stdout"
        }
      ]
    },
    {
      "cell_type": "code",
      "metadata": {
        "id": "tvadvHHxdFFk",
        "colab_type": "code",
        "colab": {
          "base_uri": "https://localhost:8080/",
          "height": 366
        },
        "outputId": "e1dc7251-723e-4684-c834-334cb8261707"
      },
      "source": [
        "# Top 20 most common occuring keywords in df[\"most_depth\"]\n",
        "df[\"most_depth\"].value_counts().nlargest(20)"
      ],
      "execution_count": 19,
      "outputs": [
        {
          "output_type": "execute_result",
          "data": {
            "text/plain": [
              "reflectance                           556\n",
              "air temperature                       364\n",
              "ocean chemistry                       315\n",
              "ocean optics                          314\n",
              "ocean temperature                     313\n",
              "salinity/density                      312\n",
              "precipitation rate                    306\n",
              "water vapor                           295\n",
              "humidity                              295\n",
              "land use/land cover classification    281\n",
              "surface temperature                   276\n",
              "surface winds                         259\n",
              "albedo                                239\n",
              "heat flux                             236\n",
              "carbon dioxide                        235\n",
              "ozone                                 235\n",
              "precipitation amount                  232\n",
              "biomass                               214\n",
              "terrain elevation                     213\n",
              "soil moisture/water content           206\n",
              "Name: most_depth, dtype: int64"
            ]
          },
          "metadata": {
            "tags": []
          },
          "execution_count": 19
        }
      ]
    },
    {
      "cell_type": "code",
      "metadata": {
        "id": "WTZGdzTRdG20",
        "colab_type": "code",
        "colab": {
          "base_uri": "https://localhost:8080/",
          "height": 475
        },
        "outputId": "7a19fb9a-a04a-472d-f7f3-9305b2de8fb5"
      },
      "source": [
        "prob = df[\"most_depth\"].value_counts().nlargest(20)\n",
        "prob.plot(kind='bar')\n",
        "plt.xticks()\n",
        "plt.show()"
      ],
      "execution_count": 20,
      "outputs": [
        {
          "output_type": "display_data",
          "data": {
            "image/png": "[encoded data removed]",
            "text/plain": [
              "<Figure size 720x360 with 1 Axes>"
            ]
          },
          "metadata": {
            "tags": [],
            "needs_background": "light"
          }
        }
      ]
    }
  ]
}